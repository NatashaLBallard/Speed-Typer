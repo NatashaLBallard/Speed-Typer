{
 "cells": [
  {
   "cell_type": "markdown",
   "id": "3b5c9fdf",
   "metadata": {},
   "source": [
    "<h1>Speed Typer</h1>\n",
    "\n",
    "<p style=\"font-size: 16px\">\n",
    "Develop a program that gives the user a typing prompt, records the amount time it takes for a user to enter input, then present the amount of time it took for them to complete the prompt.\n",
    "    \n",
    "</p>\n"
   ]
  },
  {
   "cell_type": "code",
   "execution_count": null,
   "id": "46cd8f12",
   "metadata": {},
   "outputs": [],
   "source": [
    "import time \n",
    "\n",
    "prompts = {\n",
    "    \"easy\":\"alphabet\",\n",
    "    \"medium\": \"onomatopoeia\",\n",
    "    \"large\": \"computadora\"\n",
    "}\n",
    "\n",
    "recordedTime = {\n",
    "    1:(\"\",\"\")\n",
    "}\n",
    "\n",
    "\n",
    "print(\"Do you think your fast typer? Well, let's see!\")\n",
    "confirm = input(\"Press Enter\")\n",
    "\n",
    "startTime = float(time.time())\n",
    "print(\"start time\")\n",
    "\n",
    "user = input(prompts[\"easy\" ])\n",
    "\n",
    "endTime = float(time.time())\n",
    "print(\"end time\")\n",
    "\n",
    "totalTime = (float(endTime)) - (float(startTime))\n",
    "print(f\"Total Time is {totalTime:,.2f}\")\n",
    "\n",
    "\n"
   ]
  },
  {
   "cell_type": "code",
   "execution_count": null,
   "id": "be9a06f5",
   "metadata": {},
   "outputs": [],
   "source": []
  }
 ],
 "metadata": {
  "kernelspec": {
   "display_name": "Python 3",
   "language": "python",
   "name": "python3"
  },
  "language_info": {
   "codemirror_mode": {
    "name": "ipython",
    "version": 3
   },
   "file_extension": ".py",
   "mimetype": "text/x-python",
   "name": "python",
   "nbconvert_exporter": "python",
   "pygments_lexer": "ipython3",
   "version": "3.8.8"
  }
 },
 "nbformat": 4,
 "nbformat_minor": 5
}
